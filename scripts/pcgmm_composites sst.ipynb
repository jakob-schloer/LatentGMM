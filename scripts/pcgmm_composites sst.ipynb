{
 "cells": [
  {
   "attachments": {},
   "cell_type": "markdown",
   "metadata": {},
   "source": [
    "# PC-GMM Composites"
   ]
  },
  {
   "cell_type": "code",
   "execution_count": 1,
   "metadata": {},
   "outputs": [],
   "source": [
    "from importlib import reload\n",
    "import xarray as xr\n",
    "import pandas as pd\n",
    "import numpy as np\n",
    "import matplotlib.pyplot as plt\n",
    "import cartopy as ctp\n",
    "\n",
    "from latgmm.utils import utenso, preproc, eof, utdata, utstats, metric\n",
    "import latgmm.geoplot as gpl\n",
    "\n",
    "plt.style.use(\"../paper.mplstyle\")\n"
   ]
  },
  {
   "cell_type": "code",
   "execution_count": 3,
   "metadata": {},
   "outputs": [],
   "source": [
    "# Load weights\n",
    "weight_month_mean = xr.open_dataset(\n",
    "    \"../output/pcgmm/pcgmm_1stpaperdraft/pcgmm_weights_month_sst.nc\"\n",
    ")['p_c_given_x']\n",
    "gmm_order = weight_month_mean.attrs['gmm_sort']\n"
   ]
  },
  {
   "cell_type": "code",
   "execution_count": 4,
   "metadata": {},
   "outputs": [
    {
     "name": "stdout",
     "output_type": "stream",
     "text": [
      "Load COBE2\n",
      "Sort longitudes and latitudes in ascending order, respectively\n",
      "Process sst:\n",
      "Get selected area: lon=[-180, 179], lat=[-80, 80]!\n",
      "Interpolate grid on res 2.5\n",
      "Detrend and compute anomalies:\n",
      "Load ErSSTv5\n",
      "Sort longitudes and latitudes in ascending order, respectively\n",
      "Process sst:\n"
     ]
    },
    {
     "name": "stderr",
     "output_type": "stream",
     "text": [
      "/tmp/ipykernel_66557/3353130467.py:29: UserWarning: Converting non-nanosecond precision datetime values to nanosecond precision. This behavior can eventually be relaxed in xarray, as it is an artifact from pandas which is now beginning to support non-nanosecond precision values. This warning is caused by passing non-nanosecond np.datetime64 or np.timedelta64 values to the DataArray or Variable constructor; it can be silenced by converting the values to nanosecond precision ahead of time.\n",
      "  temp['time'] = np.array(temp['time'].data, dtype='datetime64[M]')\n",
      "/tmp/ipykernel_66557/3353130467.py:29: UserWarning: Converting non-nanosecond precision datetime values to nanosecond precision. This behavior can eventually be relaxed in xarray, as it is an artifact from pandas which is now beginning to support non-nanosecond precision values. This warning is caused by passing non-nanosecond np.datetime64 or np.timedelta64 values to the DataArray or Variable constructor; it can be silenced by converting the values to nanosecond precision ahead of time.\n",
      "  temp['time'] = np.array(temp['time'].data, dtype='datetime64[M]')\n"
     ]
    },
    {
     "name": "stdout",
     "output_type": "stream",
     "text": [
      "Get selected area: lon=[-180, 179], lat=[-80, 80]!\n",
      "Interpolate grid on res 2.5\n",
      "Detrend and compute anomalies:\n",
      "Load HadISST\n",
      "Sort longitudes and latitudes in ascending order, respectively\n",
      "Process sst:\n"
     ]
    },
    {
     "name": "stderr",
     "output_type": "stream",
     "text": [
      "/tmp/ipykernel_66557/3353130467.py:29: UserWarning: Converting non-nanosecond precision datetime values to nanosecond precision. This behavior can eventually be relaxed in xarray, as it is an artifact from pandas which is now beginning to support non-nanosecond precision values. This warning is caused by passing non-nanosecond np.datetime64 or np.timedelta64 values to the DataArray or Variable constructor; it can be silenced by converting the values to nanosecond precision ahead of time.\n",
      "  temp['time'] = np.array(temp['time'].data, dtype='datetime64[M]')\n",
      "/tmp/ipykernel_66557/3353130467.py:29: UserWarning: Converting non-nanosecond precision datetime values to nanosecond precision. This behavior can eventually be relaxed in xarray, as it is an artifact from pandas which is now beginning to support non-nanosecond precision values. This warning is caused by passing non-nanosecond np.datetime64 or np.timedelta64 values to the DataArray or Variable constructor; it can be silenced by converting the values to nanosecond precision ahead of time.\n",
      "  temp['time'] = np.array(temp['time'].data, dtype='datetime64[M]')\n"
     ]
    },
    {
     "name": "stdout",
     "output_type": "stream",
     "text": [
      "Get selected area: lon=[-180, 179], lat=[-80, 80]!\n",
      "Interpolate grid on res 2.5\n",
      "Detrend and compute anomalies:\n",
      "Load ORAS5\n",
      "Sort longitudes and latitudes in ascending order, respectively\n",
      "Process sst:\n"
     ]
    },
    {
     "name": "stderr",
     "output_type": "stream",
     "text": [
      "/tmp/ipykernel_66557/3353130467.py:29: UserWarning: Converting non-nanosecond precision datetime values to nanosecond precision. This behavior can eventually be relaxed in xarray, as it is an artifact from pandas which is now beginning to support non-nanosecond precision values. This warning is caused by passing non-nanosecond np.datetime64 or np.timedelta64 values to the DataArray or Variable constructor; it can be silenced by converting the values to nanosecond precision ahead of time.\n",
      "  temp['time'] = np.array(temp['time'].data, dtype='datetime64[M]')\n",
      "/tmp/ipykernel_66557/3353130467.py:29: UserWarning: Converting non-nanosecond precision datetime values to nanosecond precision. This behavior can eventually be relaxed in xarray, as it is an artifact from pandas which is now beginning to support non-nanosecond precision values. This warning is caused by passing non-nanosecond np.datetime64 or np.timedelta64 values to the DataArray or Variable constructor; it can be silenced by converting the values to nanosecond precision ahead of time.\n",
      "  temp['time'] = np.array(temp['time'].data, dtype='datetime64[M]')\n"
     ]
    },
    {
     "name": "stdout",
     "output_type": "stream",
     "text": [
      "Get selected area: lon=[-180, 179], lat=[-80, 80]!\n",
      "Interpolate grid on res 2.5\n",
      "Detrend and compute anomalies:\n"
     ]
    },
    {
     "name": "stderr",
     "output_type": "stream",
     "text": [
      "/tmp/ipykernel_66557/3353130467.py:29: UserWarning: Converting non-nanosecond precision datetime values to nanosecond precision. This behavior can eventually be relaxed in xarray, as it is an artifact from pandas which is now beginning to support non-nanosecond precision values. This warning is caused by passing non-nanosecond np.datetime64 or np.timedelta64 values to the DataArray or Variable constructor; it can be silenced by converting the values to nanosecond precision ahead of time.\n",
      "  temp['time'] = np.array(temp['time'].data, dtype='datetime64[M]')\n",
      "/tmp/ipykernel_66557/3353130467.py:29: UserWarning: Converting non-nanosecond precision datetime values to nanosecond precision. This behavior can eventually be relaxed in xarray, as it is an artifact from pandas which is now beginning to support non-nanosecond precision values. This warning is caused by passing non-nanosecond np.datetime64 or np.timedelta64 values to the DataArray or Variable constructor; it can be silenced by converting the values to nanosecond precision ahead of time.\n",
      "  temp['time'] = np.array(temp['time'].data, dtype='datetime64[M]')\n"
     ]
    },
    {
     "name": "stdout",
     "output_type": "stream",
     "text": [
      "Load GODAS\n",
      "Sort longitudes and latitudes in ascending order, respectively\n",
      "Process sst:\n",
      "Get selected area: lon=[-180, 179], lat=[-80, 80]!\n",
      "Interpolate grid on res 2.5\n",
      "Detrend and compute anomalies:\n"
     ]
    },
    {
     "name": "stderr",
     "output_type": "stream",
     "text": [
      "/tmp/ipykernel_66557/3353130467.py:29: UserWarning: Converting non-nanosecond precision datetime values to nanosecond precision. This behavior can eventually be relaxed in xarray, as it is an artifact from pandas which is now beginning to support non-nanosecond precision values. This warning is caused by passing non-nanosecond np.datetime64 or np.timedelta64 values to the DataArray or Variable constructor; it can be silenced by converting the values to nanosecond precision ahead of time.\n",
      "  temp['time'] = np.array(temp['time'].data, dtype='datetime64[M]')\n",
      "/tmp/ipykernel_66557/3353130467.py:29: UserWarning: Converting non-nanosecond precision datetime values to nanosecond precision. This behavior can eventually be relaxed in xarray, as it is an artifact from pandas which is now beginning to support non-nanosecond precision values. This warning is caused by passing non-nanosecond np.datetime64 or np.timedelta64 values to the DataArray or Variable constructor; it can be silenced by converting the values to nanosecond precision ahead of time.\n",
      "  temp['time'] = np.array(temp['time'].data, dtype='datetime64[M]')\n"
     ]
    },
    {
     "name": "stdout",
     "output_type": "stream",
     "text": [
      "Load SODA\n",
      "Sort longitudes and latitudes in ascending order, respectively\n",
      "Process sst:\n",
      "Get selected area: lon=[-180, 179], lat=[-80, 80]!\n",
      "Interpolate grid on res 2.5\n",
      "Detrend and compute anomalies:\n",
      "Load ERA5\n",
      "Sort longitudes and latitudes in ascending order, respectively\n",
      "Process sst:\n"
     ]
    },
    {
     "name": "stderr",
     "output_type": "stream",
     "text": [
      "/tmp/ipykernel_66557/3353130467.py:29: UserWarning: Converting non-nanosecond precision datetime values to nanosecond precision. This behavior can eventually be relaxed in xarray, as it is an artifact from pandas which is now beginning to support non-nanosecond precision values. This warning is caused by passing non-nanosecond np.datetime64 or np.timedelta64 values to the DataArray or Variable constructor; it can be silenced by converting the values to nanosecond precision ahead of time.\n",
      "  temp['time'] = np.array(temp['time'].data, dtype='datetime64[M]')\n",
      "/tmp/ipykernel_66557/3353130467.py:29: UserWarning: Converting non-nanosecond precision datetime values to nanosecond precision. This behavior can eventually be relaxed in xarray, as it is an artifact from pandas which is now beginning to support non-nanosecond precision values. This warning is caused by passing non-nanosecond np.datetime64 or np.timedelta64 values to the DataArray or Variable constructor; it can be silenced by converting the values to nanosecond precision ahead of time.\n",
      "  temp['time'] = np.array(temp['time'].data, dtype='datetime64[M]')\n"
     ]
    },
    {
     "name": "stdout",
     "output_type": "stream",
     "text": [
      "Get selected area: lon=[-180, 179], lat=[-80, 80]!\n",
      "Interpolate grid on res 2.5\n",
      "Detrend and compute anomalies:\n",
      "Load CERA-20c\n",
      "Sort longitudes and latitudes in ascending order, respectively\n",
      "Process sst:\n"
     ]
    },
    {
     "name": "stderr",
     "output_type": "stream",
     "text": [
      "/tmp/ipykernel_66557/3353130467.py:29: UserWarning: Converting non-nanosecond precision datetime values to nanosecond precision. This behavior can eventually be relaxed in xarray, as it is an artifact from pandas which is now beginning to support non-nanosecond precision values. This warning is caused by passing non-nanosecond np.datetime64 or np.timedelta64 values to the DataArray or Variable constructor; it can be silenced by converting the values to nanosecond precision ahead of time.\n",
      "  temp['time'] = np.array(temp['time'].data, dtype='datetime64[M]')\n",
      "/tmp/ipykernel_66557/3353130467.py:29: UserWarning: Converting non-nanosecond precision datetime values to nanosecond precision. This behavior can eventually be relaxed in xarray, as it is an artifact from pandas which is now beginning to support non-nanosecond precision values. This warning is caused by passing non-nanosecond np.datetime64 or np.timedelta64 values to the DataArray or Variable constructor; it can be silenced by converting the values to nanosecond precision ahead of time.\n",
      "  temp['time'] = np.array(temp['time'].data, dtype='datetime64[M]')\n"
     ]
    },
    {
     "name": "stdout",
     "output_type": "stream",
     "text": [
      "Get selected area: lon=[-180, 179], lat=[-80, 80]!\n",
      "Interpolate grid on res 2.5\n",
      "Detrend and compute anomalies:\n"
     ]
    },
    {
     "name": "stderr",
     "output_type": "stream",
     "text": [
      "/tmp/ipykernel_66557/3353130467.py:29: UserWarning: Converting non-nanosecond precision datetime values to nanosecond precision. This behavior can eventually be relaxed in xarray, as it is an artifact from pandas which is now beginning to support non-nanosecond precision values. This warning is caused by passing non-nanosecond np.datetime64 or np.timedelta64 values to the DataArray or Variable constructor; it can be silenced by converting the values to nanosecond precision ahead of time.\n",
      "  temp['time'] = np.array(temp['time'].data, dtype='datetime64[M]')\n",
      "/tmp/ipykernel_66557/3353130467.py:29: UserWarning: Converting non-nanosecond precision datetime values to nanosecond precision. This behavior can eventually be relaxed in xarray, as it is an artifact from pandas which is now beginning to support non-nanosecond precision values. This warning is caused by passing non-nanosecond np.datetime64 or np.timedelta64 values to the DataArray or Variable constructor; it can be silenced by converting the values to nanosecond precision ahead of time.\n",
      "  temp['time'] = np.array(temp['time'].data, dtype='datetime64[M]')\n"
     ]
    }
   ],
   "source": [
    "# Load data\n",
    "# =======================================================================================\n",
    "reload(preproc)\n",
    "var = 'sst'\n",
    "climatology = 'month'\n",
    "f_sst = \"../data/reanalysis/monthly/ERA5/sea_surface_temperature_era5_monthly_sp_1940-2022_1.0x1.0.nc\"\n",
    "\n",
    "dirpath = \"../data/reanalysis/monthly/\"\n",
    "datapath = {\n",
    "    'COBE2':   dirpath+\"/COBE/sst_cobe2_month_1850-2019.nc\",\n",
    "    'ErSSTv5': dirpath+\"/ERSSTv5/sst_ersstv5_month_1854-present.nc\",\n",
    "    'HadISST': dirpath+\"/HadISST/sst_hadisst_month_1870-present.nc\",\n",
    "    'ORAS5':   dirpath+\"/ORAS5/sea_surface_temperature_oras5_single_level_1958_2023_1x1.nc\",\n",
    "    'GODAS':   dirpath+\"/GODAS/sst_godas_month_1980-present.nc\",\n",
    "    'SODA':    dirpath+\"/SODA/sst_SODA_month_1980-2017.nc\",\n",
    "    'ERA5':    dirpath+\"/ERA5/sea_surface_temperature_era5_monthly_sp_1940-2022_1.0x1.0.nc\",\n",
    "    'CERA-20c':dirpath+\"/CERA-20C/sst_cera20c_1901-2009_r1x1.nc\",\n",
    "}\n",
    "\n",
    "da4comp = {}\n",
    "for product, path in datapath.items():\n",
    "    print(f\"Load {product}\")\n",
    "    ds_temp = preproc.process_data(\n",
    "        path, vars=[var], antimeridian=False,\n",
    "        lon_range=[-180, 179], lat_range=[-80, 80],\n",
    "        grid_step=2.5, climatology=climatology, normalization=None\n",
    "    )\n",
    "    da = ds_temp[f\"{var}a\"]\n",
    "    da['time'] = np.array(da['time'].data, dtype='datetime64[M]')\n",
    "    da4comp[product] = da.to_dataset()\n",
    "\n"
   ]
  },
  {
   "cell_type": "code",
   "execution_count": 22,
   "metadata": {},
   "outputs": [
    {
     "data": {
      "text/plain": [
       "<matplotlib.lines.Line2D at 0x7fcc6cb12dd0>"
      ]
     },
     "execution_count": 22,
     "metadata": {},
     "output_type": "execute_result"
    },
    {
     "data": {
      "image/png": "[encoded data removed]",
      "text/plain": [
       "<Figure size 700x500 with 1 Axes>"
      ]
     },
     "metadata": {},
     "output_type": "display_data"
    }
   ],
   "source": [
    "from latgmm.utils import utenso\n",
    "da = da4comp['CERA-20c']['ssta'].sel(time=slice('1900-01-01', None))\n",
    "nino_indices = utenso.get_nino_indices(da, time_range=None, monthly=False, antimeridian=False)\n",
    "fig, ax = plt.subplots()\n",
    "nino_indices['nino3'].plot(ax=ax)\n",
    "ax.axhline(2.1)\n",
    "\n"
   ]
  },
  {
   "attachments": {},
   "cell_type": "markdown",
   "metadata": {},
   "source": [
    "## Probabilistic weighted composites"
   ]
  },
  {
   "cell_type": "code",
   "execution_count": null,
   "metadata": {},
   "outputs": [],
   "source": [
    "# Parameters\n",
    "n_samples_time = 12\n",
    "n_samples_mean = 100\n",
    "alpha = 0.05\n",
    "null_hypothesis = 'neutral'\n",
    "stattest = 'pos'\n",
    "multiple_testing= None"
   ]
  },
  {
   "cell_type": "code",
   "execution_count": null,
   "metadata": {},
   "outputs": [],
   "source": [
    "# Weighted composites\n",
    "composites = {}\n",
    "masks = {}\n",
    "for product, da in da4comp.items():\n",
    "    composites[product], masks[product], samples_null_prob, pvals_prob = utenso.get_weighted_composites(\n",
    "        da, datapath[product], weight_month_mean, null_hypothesis=null_hypothesis,\n",
    "        stattest=stattest, n_samples_mean=n_samples_mean, alpha=alpha,\n",
    "        multiple_testing=multiple_testing, serial_data=False\n",
    "    )\n",
    "    \n"
   ]
  },
  {
   "cell_type": "code",
   "execution_count": null,
   "metadata": {},
   "outputs": [],
   "source": [
    "# Plot weighted composites\n",
    "# ===============================================\n",
    "plotspec = dict(cmap='RdBu_r', vmin=-1.5, vmax=1.5, step=.25, label='SST anomaly [K]')\n",
    "\n",
    "n_columns = len(composites)\n",
    "n_rows = len(gmm_order)\n",
    "height_ratios = [9]*(n_rows)\n",
    "height_ratios.append(1)\n",
    "fig = plt.figure(figsize=(n_columns*6, n_rows*3 + 0.2))\n",
    "gs = fig.add_gridspec(n_rows + 1, n_columns,\n",
    "                      height_ratios=height_ratios,\n",
    "                      hspace=0.3, wspace=0.2)\n",
    "central_longitude = 180\n",
    "proj = ctp.crs.Robinson(central_longitude=central_longitude)\n",
    "\n",
    "axs = []\n",
    "for j in range(n_columns):\n",
    "    for i in range(n_rows):\n",
    "        idx = gmm_order[i] + 1\n",
    "        product = list(composites.keys())[j]\n",
    "        comp = composites[product]['ssta'].sel(classes=idx)\n",
    "        mask = masks[product]['ssta'].sel(classes=idx)\n",
    "        ax = fig.add_subplot(gs[i, j], projection=proj)\n",
    "\n",
    "        im = gpl.plot_map(comp, central_longitude=0, ax=ax,\n",
    "                          bar='discrete', add_bar=False,\n",
    "                          cmap=plotspec['cmap'],\n",
    "                          vmin=plotspec['vmin'], vmax=plotspec['vmax'],\n",
    "                          step=plotspec['step'], centercolor='#FFFFFF')\n",
    "        gpl.significance_mask(mask, ax=ax, hatch=\"..\",\n",
    "                              central_longitude=0)\n",
    "        # Remove labels\n",
    "        im['gl'].top_labels = False\n",
    "        im['gl'].right_labels = False\n",
    "        if i == n_rows-1:\n",
    "            im['gl'].bottom_labels = True\n",
    "        else:\n",
    "            im['gl'].bottom_labels = False\n",
    "        if i == 0:\n",
    "            ax.set_title(f\"{product}\", fontsize=16)\n",
    "\n",
    "        axs.append(ax)\n",
    "\n",
    "    # Shared colorbar\n",
    "    ax = fig.add_subplot(gs[-1, j])\n",
    "    cbar = plt.colorbar(im['im'], orientation='horizontal', shrink=0.3,\n",
    "                        cax=ax, extend='both')\n",
    "    cbar.set_label(f\"{plotspec['label']}\", size=16)\n",
    "\n",
    "\n",
    "_ = gpl.enumerate_subplots(np.array(axs).T, pos_x=-\n",
    "                           0.07, pos_y=1.06, fontsize=16)"
   ]
  },
  {
   "attachments": {},
   "cell_type": "markdown",
   "metadata": {},
   "source": [
    "## Unweighted composites"
   ]
  },
  {
   "cell_type": "code",
   "execution_count": null,
   "metadata": {},
   "outputs": [],
   "source": [
    "# Unweighted composites\n",
    "reload(utenso)\n",
    "composites_unweight = {}\n",
    "mask_unweight = {}\n",
    "for product, da in da4comp.items():\n",
    "    composites_unweight[product], mask_unweight[product], composites_null, samples_null_unweight, pvalues_unweight = utenso.get_unweighted_composites(\n",
    "        da, datapath[product], stattest=stattest, null_hypothesis=null_hypothesis,\n",
    "        n_samples_mean=n_samples_mean, n_samples_time=n_samples_time, alpha=alpha,\n",
    "        serial_data=False, multiple_testing=multiple_testing\n",
    "    )\n"
   ]
  },
  {
   "cell_type": "code",
   "execution_count": null,
   "metadata": {},
   "outputs": [],
   "source": [
    "# Plot unweighted composites\n",
    "n_columns = len(composites_unweight.keys())\n",
    "n_rows = 4 + 1\n",
    "height_ratios = [9]*(n_rows)\n",
    "height_ratios.append(1)\n",
    "fig = plt.figure(figsize=(n_columns*6, n_rows*3 + 0.2))\n",
    "gs = fig.add_gridspec(n_rows+1, n_columns,\n",
    "                      height_ratios=height_ratios,\n",
    "                      hspace=0.3, wspace=0.2)\n",
    "central_longitude = 180\n",
    "proj = ctp.crs.Robinson(central_longitude=central_longitude)\n",
    "\n",
    "axs = []\n",
    "for j in range(n_columns):\n",
    "    var = 'ssta'\n",
    "    product = list(composites_unweight.keys())[j]\n",
    "\n",
    "    # Neutral composites\n",
    "    ax = fig.add_subplot(gs[0, j], projection=proj)\n",
    "    im = gpl.plot_map(composites_null[var], central_longitude=0, ax=ax,\n",
    "                      bar='discrete', add_bar=False,\n",
    "                      cmap=plotspec['cmap'],\n",
    "                      vmin=plotspec['vmin'], vmax=plotspec['vmax'],\n",
    "                      step=plotspec['step'], centercolor='#FFFFFF')\n",
    "#    ax.set_title(f\"Neutral\")\n",
    "    axs.append(ax)\n",
    "    im['gl'].top_labels = False\n",
    "    im['gl'].right_labels = False\n",
    "    im['gl'].bottom_labels = False\n",
    "\n",
    "    # ENSO flavor composites\n",
    "    for i in range(n_rows-1):\n",
    "        comp = composites_unweight[product][var].isel(classes=i)\n",
    "        mask = mask_unweight[product][var].isel(classes=i)\n",
    "        ax = fig.add_subplot(gs[i+1, j], projection=proj)\n",
    "\n",
    "        im = gpl.plot_map(comp, central_longitude=0, ax=ax,\n",
    "                          bar='discrete', add_bar=False,\n",
    "                          cmap=plotspec['cmap'],\n",
    "                          vmin=plotspec['vmin'], vmax=plotspec['vmax'],\n",
    "                          step=plotspec['step'], centercolor='#FFFFFF')\n",
    "        gpl.significance_mask(mask, ax=ax,\n",
    "                              central_longitude=0)\n",
    "        # Remove labels\n",
    "        im['gl'].top_labels = False\n",
    "        im['gl'].right_labels = False\n",
    "        if i+1 == n_rows-1:\n",
    "            im['gl'].bottom_labels = True\n",
    "        else:\n",
    "            im['gl'].bottom_labels = False\n",
    "        if i == 0:\n",
    "            ax.set_title(f\"{product}\", fontsize=16)\n",
    "\n",
    "        # Set number of significant points as title\n",
    "        # n_nan = np.count_nonzero(np.isnan(mask.data.flatten()))\n",
    "        # ratio_significant = np.count_nonzero(mask.data.flatten()) / (len(mask.data.flatten()) - n_nan) * 100\n",
    "        # ax.set_title(f\"{ratio_significant:.1f}%\")\n",
    "        axs.append(ax)\n",
    "\n",
    "    # Shared colorbar\n",
    "    ax = fig.add_subplot(gs[-1, j])\n",
    "    cbar = plt.colorbar(im['im'], orientation='horizontal', shrink=0.3,\n",
    "                        cax=ax, extend='both')\n",
    "    cbar.set_label(f\"{plotspec['label']}\", size=16)\n",
    "\n",
    "_ = gpl.enumerate_subplots(np.array(axs).T, pos_x=-0.07, pos_y=1.06, fontsize=16)\n"
   ]
  },
  {
   "attachments": {},
   "cell_type": "markdown",
   "metadata": {},
   "source": [
    "## Plot histograms"
   ]
  },
  {
   "cell_type": "code",
   "execution_count": null,
   "metadata": {},
   "outputs": [],
   "source": [
    "idx = 3\n",
    "var = 'olra'\n",
    "lat = 0.0\n",
    "lon = 178 \n",
    "mean = composites_unweight[var].isel(classes=idx)\n",
    "mask = mask_unweight[var].isel(classes=idx)\n",
    "samples_null = samples_null_unweight[var]\n",
    "\n",
    "fig = plt.figure(figsize=(6,7))\n",
    "\n",
    "central_longitude = 180\n",
    "proj = ctp.crs.Robinson(central_longitude=central_longitude)\n",
    "ax1 = fig.add_subplot(211, projection=proj)\n",
    "im = gpl.plot_map(mean,\n",
    "                  ax=ax1, central_longitude=0, \n",
    "                  bar='discrete', add_bar=False,\n",
    "                  cmap=plotspec[var]['cmap'],\n",
    "                  vmin=plotspec[var]['vmin'], vmax=plotspec[var]['vmax'],\n",
    "                  step=plotspec[var]['step'], centercolor='#FFFFFF')\n",
    "gpl.significance_mask(mask, ax=ax1, hatch='..',\n",
    "                      central_longitude=0)\n",
    "\n",
    "ax1.scatter(lon, lat, transform=ctp.crs.PlateCarree(),\n",
    "           marker='*', color='b', s=200)\n",
    "ax1.set_title(f\"{mean['classes'].data}\")\n",
    "# Hist\n",
    "ax2 = fig.add_subplot(212)\n",
    "ax2.axvline(mean.sel(lon=lon, lat=lat, method='nearest'), color='k', label='mean')\n",
    "ax2.hist(samples_null.sel(lon=lon, lat=lat, method='nearest').data,\n",
    "        bins='auto', density=True, alpha=0.5, label='null')\n",
    "ax2.legend()\n",
    "ax2.set_title(f\"PoS: {pvals_prob[var].isel(classes=idx).sel(lon=lon, lat=lat, method='nearest').data:.2f}\"+\n",
    "      f\", significance: {mask.sel(lon=lon, lat=lat, method='nearest').data}\")\n"
   ]
  },
  {
   "cell_type": "code",
   "execution_count": null,
   "metadata": {},
   "outputs": [],
   "source": []
  }
 ],
 "metadata": {
  "kernelspec": {
   "display_name": "vaeenv",
   "language": "python",
   "name": "python3"
  },
  "language_info": {
   "codemirror_mode": {
    "name": "ipython",
    "version": 3
   },
   "file_extension": ".py",
   "mimetype": "text/x-python",
   "name": "python",
   "nbconvert_exporter": "python",
   "pygments_lexer": "ipython3",
   "version": "3.11.4"
  },
  "orig_nbformat": 4
 },
 "nbformat": 4,
 "nbformat_minor": 2
}
